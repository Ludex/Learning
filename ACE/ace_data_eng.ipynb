{
 "cells": [
  {
   "cell_type": "code",
   "execution_count": 1,
   "metadata": {},
   "outputs": [],
   "source": [
    "import pandas as pd\n",
    "import numpy as np"
   ]
  },
  {
   "cell_type": "code",
   "execution_count": 9,
   "metadata": {},
   "outputs": [],
   "source": [
    "dfPeople = pd.read_excel('ACE_Data_ENG_Assignment.xlsx', sheet_name='People', dtype=str)\n",
    "dfPetition = pd.read_excel('ACE_Data_ENG_Assignment.xlsx', sheet_name='Petitions_Signed', dtype=str)\n",
    "\n",
    "dfPeople.columns = [s.strip() for s in dfPeople.columns]\n",
    "dfPetition.columns = [s.strip() for s in dfPetition.columns]"
   ]
  },
  {
   "cell_type": "code",
   "execution_count": 15,
   "metadata": {},
   "outputs": [
    {
     "data": {
      "text/plain": [
       "Index(['PersonId', 'Zip', 'City', 'Petitions_Signed_Total',\n",
       "       'Text_Interactions_Total', 'Email_Interactions_Total',\n",
       "       'Total_Video_Views_Total'],\n",
       "      dtype='object')"
      ]
     },
     "execution_count": 15,
     "metadata": {},
     "output_type": "execute_result"
    }
   ],
   "source": [
    "# dfPeople.head()\n",
    "# dfPetition.head()\n",
    "\n",
    "dfPeople.columns\n",
    "# dfPetition.columns"
   ]
  },
  {
   "cell_type": "code",
   "execution_count": 8,
   "metadata": {},
   "outputs": [],
   "source": [
    "# Cleansing of dfPeople\n",
    "dfPeople['City'] = dfPeople['City'].str.title()\n",
    "# dfPeople.sort_values(by=)\n",
    "test = dfPeople.groupby(['City','Zip']).count()\n",
    "\n",
    "# dfPeople[['City','Zip']].head()"
   ]
  },
  {
   "cell_type": "code",
   "execution_count": 28,
   "metadata": {},
   "outputs": [
    {
     "data": {
      "text/plain": [
       "0        60013\n",
       "1        60030\n",
       "2        96161\n",
       "3        95076\n",
       "4        90019\n",
       "         ...  \n",
       "13893    72201\n",
       "13894    84780\n",
       "13895    02139\n",
       "13896    43035\n",
       "13897    19149\n",
       "Name: Zip, Length: 13898, dtype: object"
      ]
     },
     "execution_count": 28,
     "metadata": {},
     "output_type": "execute_result"
    }
   ],
   "source": [
    "dfPeople['Zip'] = dfPeople['Zip'].str[:5]\n",
    "dfPeople['Zip'] = dfPeople['Zip'].str.pad(5, side='left', fillchar='0')\n",
    "\n",
    "SELECT LPAD(LEFT(Zip, 5),5,'0') AS Zip\n",
    "FROM People"
   ]
  },
  {
   "cell_type": "code",
   "execution_count": 12,
   "metadata": {},
   "outputs": [],
   "source": [
    "\n",
    "dfPetitionPeople = pd.merge(dfPetition, dfPeople, how='left', left_on='PersonID', right_on='PersonId')"
   ]
  },
  {
   "cell_type": "code",
   "execution_count": null,
   "metadata": {},
   "outputs": [],
   "source": []
  }
 ],
 "metadata": {
  "kernelspec": {
   "display_name": "Python 3.8.13 ('.env': venv)",
   "language": "python",
   "name": "python3"
  },
  "language_info": {
   "codemirror_mode": {
    "name": "ipython",
    "version": 3
   },
   "file_extension": ".py",
   "mimetype": "text/x-python",
   "name": "python",
   "nbconvert_exporter": "python",
   "pygments_lexer": "ipython3",
   "version": "3.8.13"
  },
  "orig_nbformat": 4,
  "vscode": {
   "interpreter": {
    "hash": "a6bc3ddd5ef912eb080082270d90875aae86122707e05d41460d04de85d93f84"
   }
  }
 },
 "nbformat": 4,
 "nbformat_minor": 2
}
